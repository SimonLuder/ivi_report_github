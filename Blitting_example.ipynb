{
 "cells": [
  {
   "cell_type": "markdown",
   "metadata": {},
   "source": [
    "## Blitting Example Notebook"
   ]
  },
  {
   "cell_type": "markdown",
   "metadata": {},
   "source": [
    "**Disclaimer:\n",
    "The original code for this notebook comes from: https://stackoverflow.com/questions/8955869/why-is-plotting-with-matplotlib-so-slow**"
   ]
  },
  {
   "cell_type": "code",
   "execution_count": 1,
   "metadata": {},
   "outputs": [],
   "source": [
    "# import libraries\n",
    "import matplotlib.pyplot as plt\n",
    "import numpy as np\n",
    "import time\n",
    "import matplotlib.animation as animation"
   ]
  },
  {
   "cell_type": "markdown",
   "metadata": {},
   "source": [
    "1. plotting an animated sinus wave at 6 different frequencies using the regular canvas.draw() function."
   ]
  },
  {
   "cell_type": "code",
   "execution_count": 2,
   "metadata": {},
   "outputs": [
    {
     "name": "stdout",
     "output_type": "stream",
     "text": [
      "Time for 100 Frames: 6.748451232910156\n",
      "Average FPS: 14.818214809396597\n"
     ]
    }
   ],
   "source": [
    "%matplotlib tk\n",
    "x = np.arange(0, 2*np.pi, 0.01)\n",
    "y = np.sin(x)\n",
    "\n",
    "# setup plot & styling\n",
    "fig, axes = plt.subplots(nrows=6)\n",
    "styles = ['r-', 'g-', 'y-', 'm-', 'k-', 'c-']\n",
    "lines = [ax.plot(x, y, style)[0] for ax, style in zip(axes, styles)]\n",
    "\n",
    "fig.show()\n",
    "\n",
    "#update plot\n",
    "tstart = time.time()\n",
    "for i in range(1, 100):\n",
    "    for j, line in enumerate(lines, start=1):\n",
    "        line.set_ydata(np.sin(j*x + i/10.0))\n",
    "    fig.canvas.draw()\n",
    "\n",
    "plt.close()\n",
    "\n",
    "time_n = (time.time()-tstart)\n",
    "fps_n = 100/(time.time()-tstart)\n",
    "\n",
    "print('Time for 100 Frames:' , time_n)\n",
    "print('Average FPS:' , fps_n)"
   ]
  },
  {
   "cell_type": "markdown",
   "metadata": {},
   "source": [
    "2. plotting an animated sinus wave at 6 different frequencies using the so called \"blitting\" method. (if trouble to display in jupyter notebook. -> use jupyterlab)"
   ]
  },
  {
   "cell_type": "code",
   "execution_count": 3,
   "metadata": {},
   "outputs": [
    {
     "name": "stdout",
     "output_type": "stream",
     "text": [
      "Time for 100 Frames: 0.5880496501922607\n",
      "Average FPS: 170.0536680317816\n"
     ]
    }
   ],
   "source": [
    "%matplotlib tk\n",
    "\n",
    "x = np.arange(0, 2*np.pi, 0.1)\n",
    "y = np.sin(x)\n",
    "\n",
    "fig, axes = plt.subplots(nrows=6)\n",
    "\n",
    "fig.show()\n",
    "\n",
    "# setup plot & styling\n",
    "fig.canvas.draw()\n",
    "\n",
    "styles = ['r-', 'g-', 'y-', 'm-', 'k-', 'c-']\n",
    "def plot(ax, style):\n",
    "    return ax.plot(x, y, style, animated=True)[0]\n",
    "lines = [plot(ax, style) for ax, style in zip(axes, styles)]\n",
    "\n",
    "# capture the background of the figure\n",
    "backgrounds = [fig.canvas.copy_from_bbox(ax.bbox) for ax in axes]\n",
    "\n",
    "# updating plot\n",
    "tstart = time.time()\n",
    "for i in range(1, 100):\n",
    "    items = enumerate(zip(lines, axes, backgrounds), start=1)\n",
    "    for j, (line, ax, background) in items:\n",
    "        fig.canvas.restore_region(background)\n",
    "        line.set_ydata(np.sin(j*x + i/10.0))\n",
    "        ax.draw_artist(line)\n",
    "        fig.canvas.blit(ax.bbox)\n",
    "        \n",
    "plt.close()\n",
    "\n",
    "time_b = (time.time()-tstart)\n",
    "fps_b = 100/(time.time()-tstart)\n",
    "\n",
    "print('Time for 100 Frames:' , time_b)\n",
    "print('Average FPS:' , fps_b)"
   ]
  },
  {
   "cell_type": "code",
   "execution_count": 4,
   "metadata": {},
   "outputs": [
    {
     "name": "stdout",
     "output_type": "stream",
     "text": [
      "Blitting increased our performance by 1148 percent!\n"
     ]
    }
   ],
   "source": [
    "performance_increase = (fps_b/fps_n)*100\n",
    "print(\"Blitting increased our performance by {} percent!\".format(round(performance_increase)))"
   ]
  }
 ],
 "metadata": {
  "kernelspec": {
   "display_name": "Python 3",
   "language": "python",
   "name": "python3"
  },
  "language_info": {
   "codemirror_mode": {
    "name": "ipython",
    "version": 3
   },
   "file_extension": ".py",
   "mimetype": "text/x-python",
   "name": "python",
   "nbconvert_exporter": "python",
   "pygments_lexer": "ipython3",
   "version": "3.7.3"
  }
 },
 "nbformat": 4,
 "nbformat_minor": 4
}
